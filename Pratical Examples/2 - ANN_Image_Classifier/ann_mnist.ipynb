{
 "cells": [
  {
   "cell_type": "markdown",
   "id": "18ffe5df",
   "metadata": {},
   "source": [
    "# Image classifier with Artificial Neural Network\n",
    "\n",
    "Image classification with Machine Learning models, was a first step toward robust models. But the results come from Machine Learning models are not enough, to consider them accurate models. On the other hand, with the emergence of the Deep Learning Models, we can obtain better results than we consider Machine Learning models.\n",
    "\n",
    "One of the first model of Deep Learning, is the Artificial Neural Networks. This model try to reproduce the neural activities in the human brain. The first proposed model is the Perceptron method."
   ]
  },
  {
   "cell_type": "markdown",
   "id": "8aaf9f7a",
   "metadata": {},
   "source": [
    "## Importing Libraries"
   ]
  },
  {
   "cell_type": "code",
   "execution_count": 1,
   "id": "d74f51d7",
   "metadata": {},
   "outputs": [],
   "source": [
    "from compvis.ann import ANN\n",
    "from sklearn.preprocessing import LabelBinarizer\n",
    "from sklearn.model_selection import train_test_split\n",
    "from sklearn.metrics import classification_report\n",
    "from sklearn import datasets"
   ]
  },
  {
   "cell_type": "markdown",
   "id": "7eab5300",
   "metadata": {},
   "source": [
    "## Loading the dataset"
   ]
  },
  {
   "cell_type": "code",
   "execution_count": 2,
   "id": "f8792af9",
   "metadata": {},
   "outputs": [],
   "source": [
    "digits = datasets.load_digits()\n",
    "data = digits.data.astype(\"float\")\n",
    "data = (data - data.min()) / (data.max() - data.min())"
   ]
  },
  {
   "cell_type": "code",
   "execution_count": 3,
   "id": "65e2263a",
   "metadata": {},
   "outputs": [
    {
     "name": "stdout",
     "output_type": "stream",
     "text": [
      "[INFO] samples: 1797, dim: 64\n"
     ]
    }
   ],
   "source": [
    "print(\"[INFO] samples: {}, dim: {}\".format(data.shape[0], data.shape[1]))"
   ]
  },
  {
   "cell_type": "markdown",
   "id": "ed542b76",
   "metadata": {},
   "source": [
    "**splitting the dataset into train and test set**"
   ]
  },
  {
   "cell_type": "code",
   "execution_count": 4,
   "id": "c8721f99",
   "metadata": {},
   "outputs": [],
   "source": [
    "(X_train, X_test, y_train, y_test) = train_test_split(data, digits.target,\n",
    "                                                      test_size = 0.25)"
   ]
  },
  {
   "cell_type": "markdown",
   "id": "eb2889a9",
   "metadata": {},
   "source": [
    "**Encoding the target variable**"
   ]
  },
  {
   "cell_type": "code",
   "execution_count": 5,
   "id": "fc4a9552",
   "metadata": {},
   "outputs": [],
   "source": [
    "y_train = LabelBinarizer().fit_transform(y_train)\n",
    "y_test = LabelBinarizer().fit_transform(y_test)"
   ]
  },
  {
   "cell_type": "code",
   "execution_count": 6,
   "id": "36dd15f6",
   "metadata": {},
   "outputs": [],
   "source": [
    "model = ANN([X_train.shape[1], 32, 16, 10], alpha=0.01)"
   ]
  },
  {
   "cell_type": "code",
   "execution_count": 7,
   "id": "d504c28a",
   "metadata": {},
   "outputs": [
    {
     "name": "stdout",
     "output_type": "stream",
     "text": [
      "NeuralNetwork: 64-32-16-10\n"
     ]
    }
   ],
   "source": [
    "print(model)"
   ]
  },
  {
   "cell_type": "code",
   "execution_count": 8,
   "id": "7e54e112",
   "metadata": {},
   "outputs": [
    {
     "data": {
      "text/plain": [
       "(1347, 64)"
      ]
     },
     "execution_count": 8,
     "metadata": {},
     "output_type": "execute_result"
    }
   ],
   "source": [
    "X_train.shape"
   ]
  },
  {
   "cell_type": "code",
   "execution_count": 9,
   "id": "3fc90dc9",
   "metadata": {},
   "outputs": [
    {
     "data": {
      "text/plain": [
       "(1347, 10)"
      ]
     },
     "execution_count": 9,
     "metadata": {},
     "output_type": "execute_result"
    }
   ],
   "source": [
    "y_train.shape"
   ]
  },
  {
   "cell_type": "code",
   "execution_count": 10,
   "id": "2b2cfcfe",
   "metadata": {},
   "outputs": [
    {
     "name": "stdout",
     "output_type": "stream",
     "text": [
      "[INFO] Training the model\n",
      "epoch 1, loss: 0.4564547\n",
      "epoch 50, loss: 0.4281633\n",
      "epoch 100, loss: 0.2145524\n",
      "epoch 150, loss: 0.1008852\n",
      "epoch 200, loss: 0.0594809\n",
      "epoch 250, loss: 0.0394205\n",
      "epoch 300, loss: 0.0293213\n",
      "epoch 350, loss: 0.0233293\n",
      "epoch 400, loss: 0.0191330\n",
      "epoch 450, loss: 0.0159341\n",
      "epoch 500, loss: 0.0134122\n",
      "epoch 550, loss: 0.0114421\n",
      "epoch 600, loss: 0.0098914\n",
      "epoch 650, loss: 0.0086707\n",
      "epoch 700, loss: 0.0077273\n",
      "epoch 750, loss: 0.0069958\n",
      "epoch 800, loss: 0.0064192\n",
      "epoch 850, loss: 0.0059558\n",
      "epoch 900, loss: 0.0055766\n",
      "epoch 950, loss: 0.0052610\n",
      "epoch 1000, loss: 0.0049942\n"
     ]
    }
   ],
   "source": [
    "model.fit(X_train, y_train, epochs = 1000, verbose = 50)"
   ]
  },
  {
   "cell_type": "markdown",
   "id": "fa652edd",
   "metadata": {},
   "source": [
    "## Predicting with the ANN model"
   ]
  },
  {
   "cell_type": "code",
   "execution_count": 11,
   "id": "9dfbfeed",
   "metadata": {},
   "outputs": [],
   "source": [
    "predictions = model.predict(X_test)"
   ]
  },
  {
   "cell_type": "code",
   "execution_count": 12,
   "id": "186d5a71",
   "metadata": {},
   "outputs": [],
   "source": [
    "predictions = predictions.argmax(axis = 1)"
   ]
  },
  {
   "cell_type": "markdown",
   "id": "758d55ec",
   "metadata": {},
   "source": [
    "## Evaluating the model"
   ]
  },
  {
   "cell_type": "code",
   "execution_count": 13,
   "id": "ce76573c",
   "metadata": {},
   "outputs": [
    {
     "name": "stdout",
     "output_type": "stream",
     "text": [
      "              precision    recall  f1-score   support\n",
      "\n",
      "           0       1.00      1.00      1.00        47\n",
      "           1       0.92      1.00      0.96        55\n",
      "           2       1.00      1.00      1.00        50\n",
      "           3       0.98      0.96      0.97        45\n",
      "           4       1.00      0.96      0.98        45\n",
      "           5       0.97      1.00      0.99        36\n",
      "           6       1.00      1.00      1.00        37\n",
      "           7       0.90      0.98      0.94        46\n",
      "           8       0.95      0.90      0.92        41\n",
      "           9       0.98      0.88      0.92        48\n",
      "\n",
      "    accuracy                           0.97       450\n",
      "   macro avg       0.97      0.97      0.97       450\n",
      "weighted avg       0.97      0.97      0.97       450\n",
      "\n"
     ]
    }
   ],
   "source": [
    "cr = classification_report(y_test.argmax(axis = 1), predictions)\n",
    "print(cr)"
   ]
  }
 ],
 "metadata": {
  "kernelspec": {
   "display_name": "Python 3",
   "language": "python",
   "name": "python3"
  },
  "language_info": {
   "codemirror_mode": {
    "name": "ipython",
    "version": 3
   },
   "file_extension": ".py",
   "mimetype": "text/x-python",
   "name": "python",
   "nbconvert_exporter": "python",
   "pygments_lexer": "ipython3",
   "version": "3.7.10"
  }
 },
 "nbformat": 4,
 "nbformat_minor": 5
}
