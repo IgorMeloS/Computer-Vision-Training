{
 "cells": [
  {
   "cell_type": "markdown",
   "id": "d6f50ea1",
   "metadata": {},
   "source": [
    "# Writing Tiny ImageNet dataset into HDF5 file"
   ]
  },
  {
   "cell_type": "markdown",
   "id": "8551e863",
   "metadata": {},
   "source": [
    "## Importing Libraries\n"
   ]
  },
  {
   "cell_type": "code",
   "execution_count": null,
   "id": "3281e3c5",
   "metadata": {},
   "outputs": [],
   "source": [
    "from config import tiny_imagenet_config as config\n",
    "from sklearn.preprocessing import LabelEncoder\n",
    "from sklearn.model_selection import train_test_split\n",
    "from compvis.datasets import HD5FDatasetWriter\n",
    "from imutils import paths\n",
    "import numpy as np\n",
    "import json\n",
    "import cv2\n",
    "import os"
   ]
  },
  {
   "cell_type": "code",
   "execution_count": null,
   "id": "85feee40",
   "metadata": {},
   "outputs": [],
   "source": [
    "# grab the paths to the training images, then extract the training class labels and encode them\n",
    "trainPaths = list(paths.list_images(config.TRAIN_IMAGES))\n",
    "trainLabels = [p.split(os.path.sep)[-3] for p in trainPaths]\n",
    "le = LabelEncoder()\n",
    "trainLabels = le.fit_transform(trainLabels)"
   ]
  },
  {
   "cell_type": "code",
   "execution_count": null,
   "id": "483cc2ed",
   "metadata": {},
   "outputs": [],
   "source": [
    "# Splitting the dataset into training and validation set\n",
    "\n",
    "split = train_test_split(trainPaths, trainLabels, test_size=config.NUM_TEST_IMAGES,\n",
    "                         stratify=trainLabels, random_state=42)\n",
    "(trainPaths, testPaths, trainLabels, testLabels) = split"
   ]
  },
  {
   "cell_type": "code",
   "execution_count": null,
   "id": "df26556f",
   "metadata": {},
   "outputs": [],
   "source": [
    "# load the validation filename => class from file and then use these mappings to build the validation paths and label lists\n",
    "M = open(config.VAL_MAPPINGS).read().strip().split(\"\\n\")\n",
    "M = [r.split(\"\\t\")[:2] for r in M]\n",
    "valPaths = [os.path.sep.join([config.VAL_IMAGES, m[0]]) for m in M]\n",
    "valLabels = le.transform([m[1] for m in M])\n"
   ]
  },
  {
   "cell_type": "code",
   "execution_count": null,
   "id": "0e8fb0ae",
   "metadata": {},
   "outputs": [],
   "source": [
    "# construct a list pairing the training, validation, and testing image paths along with their corresponding labels and output HDF5\n",
    "# files\n",
    "\n",
    "datasets = [(\"train\", trainPaths, trainLabels, config.TRAIN_HDF5),\n",
    "            (\"val\", valPaths, valLabels, config.VAL_HDF5),\n",
    "            (\"test\", testPaths, testLabels, config.TEST_HDF5)]"
   ]
  },
  {
   "cell_type": "code",
   "execution_count": null,
   "id": "444e612f",
   "metadata": {},
   "outputs": [],
   "source": [
    "# initialize the lists of RGB channel averages\n",
    "(R, G, B) = ([], [], [])"
   ]
  },
  {
   "cell_type": "code",
   "execution_count": null,
   "id": "73217d87",
   "metadata": {},
   "outputs": [],
   "source": [
    "# loop over the dataset tuples\n",
    "for (dTypes, paths, labels, outputPath) in datasets:\n",
    "    # Creating the HDF5 writter\n",
    "    print(\"[INFO] building {}...\".format(outputPath))\n",
    "    writer = HD5FDatasetWriter((len(paths), 64, 64, 3), outputPath)\n",
    "    # loop over the image paths\n",
    "    for (i, (path, label)) in enumerate(zip(paths, labels)):\n",
    "        # Loading image from disk\n",
    "        image = cv2.imread(path)\n",
    "        # if we are building the training dataset, then compute the\n",
    "        # mean of each channel in the image, then update the\n",
    "        # respective lists\n",
    "        if dTypes == \"train\":\n",
    "            (b, g, r) = cv2.mean(image)[:3]\n",
    "            R.append(r)\n",
    "            G.append(g)\n",
    "            B.append(b)\n",
    "        writer.add([image], [label])\n",
    "    \n",
    "    # closing the current dataset\n",
    "    writer.close()"
   ]
  },
  {
   "cell_type": "code",
   "execution_count": null,
   "id": "3ba7e7e3",
   "metadata": {},
   "outputs": [],
   "source": [
    "# construct a dictionary of averages, then serialize the means to a JSON file\n",
    "print(\"[INFO] serializing means...\")\n",
    "D = {\"R\": np.mean(R), \"G\": np.mean(G), \"B\": np.mean(B)}\n",
    "f = open(config.DATASET_MEAN, \"w\")\n",
    "f.write(json.dumps(D))\n",
    "f.close()"
   ]
  }
 ],
 "metadata": {
  "kernelspec": {
   "display_name": "Python 3",
   "language": "python",
   "name": "python3"
  },
  "language_info": {
   "codemirror_mode": {
    "name": "ipython",
    "version": 3
   },
   "file_extension": ".py",
   "mimetype": "text/x-python",
   "name": "python",
   "nbconvert_exporter": "python",
   "pygments_lexer": "ipython3",
   "version": "3.7.10"
  }
 },
 "nbformat": 4,
 "nbformat_minor": 5
}
