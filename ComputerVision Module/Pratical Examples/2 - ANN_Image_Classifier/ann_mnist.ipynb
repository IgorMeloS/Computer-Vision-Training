{
 "cells": [
  {
   "cell_type": "markdown",
   "id": "96f32702",
   "metadata": {},
   "source": [
    "# Image classifier with Artificial Neural Network"
   ]
  },
  {
   "cell_type": "markdown",
   "id": "9c746bea",
   "metadata": {},
   "source": [
    "## Importing Libraries"
   ]
  },
  {
   "cell_type": "code",
   "execution_count": 4,
   "id": "188ec7de",
   "metadata": {},
   "outputs": [],
   "source": [
    "from compvis.ann import ANN\n",
    "from sklearn.preprocessing import LabelBinarizer\n",
    "from sklearn.model_selection import train_test_split\n",
    "from sklearn.metrics import classification_report\n",
    "from sklearn import datasets"
   ]
  },
  {
   "cell_type": "markdown",
   "id": "71e2e6fe",
   "metadata": {},
   "source": [
    "## Loading the dataset"
   ]
  },
  {
   "cell_type": "code",
   "execution_count": 5,
   "id": "0c81e742",
   "metadata": {},
   "outputs": [],
   "source": [
    "digits = datasets.load_digits()\n",
    "data = digits.data.astype(\"float\")\n",
    "data = (data - data.min()) / (data.max() - data.min())"
   ]
  },
  {
   "cell_type": "code",
   "execution_count": 6,
   "id": "bb40156f",
   "metadata": {},
   "outputs": [
    {
     "name": "stdout",
     "output_type": "stream",
     "text": [
      "[INFO] samples: 1797, dim: 64\n"
     ]
    }
   ],
   "source": [
    "print(\"[INFO] samples: {}, dim: {}\".format(data.shape[0], data.shape[1]))"
   ]
  },
  {
   "cell_type": "markdown",
   "id": "753dc489",
   "metadata": {},
   "source": [
    "**splitting the dataset into train and test set**"
   ]
  },
  {
   "cell_type": "code",
   "execution_count": 7,
   "id": "20ddd81d",
   "metadata": {},
   "outputs": [],
   "source": [
    "(X_train, X_test, y_train, y_test) = train_test_split(data, digits.target,\n",
    "                                                      test_size = 0.25)"
   ]
  },
  {
   "cell_type": "markdown",
   "id": "01f2abd8",
   "metadata": {},
   "source": [
    "**Encoding the target variable**"
   ]
  },
  {
   "cell_type": "code",
   "execution_count": 8,
   "id": "5baa6a0e",
   "metadata": {},
   "outputs": [],
   "source": [
    "y_train = LabelBinarizer().fit_transform(y_train)\n",
    "y_test = LabelBinarizer().fit_transform(y_test)"
   ]
  },
  {
   "cell_type": "code",
   "execution_count": 10,
   "id": "199d0c10",
   "metadata": {},
   "outputs": [],
   "source": [
    "model = ANN([X_train.shape[1], 32, 16, 10], alpha=0.01)"
   ]
  },
  {
   "cell_type": "code",
   "execution_count": 11,
   "id": "017318cd",
   "metadata": {},
   "outputs": [
    {
     "name": "stdout",
     "output_type": "stream",
     "text": [
      "[INFO] <compvis.ann.neuralnetwork.ANN object at 0x7fb72b49a450>\n"
     ]
    }
   ],
   "source": [
    "print(\"[INFO] {}\".format(model))"
   ]
  },
  {
   "cell_type": "code",
   "execution_count": 12,
   "id": "2e71a95f",
   "metadata": {},
   "outputs": [
    {
     "name": "stdout",
     "output_type": "stream",
     "text": [
      "[INFO] epoch=1, loss=0.4557201\n",
      "[INFO] epoch=100, loss=0.2630226\n",
      "[INFO] epoch=200, loss=0.0809367\n",
      "[INFO] epoch=300, loss=0.0340093\n",
      "[INFO] epoch=400, loss=0.0203113\n",
      "[INFO] epoch=500, loss=0.0141723\n",
      "[INFO] epoch=600, loss=0.0103960\n",
      "[INFO] epoch=700, loss=0.0079111\n",
      "[INFO] epoch=800, loss=0.0061163\n",
      "[INFO] epoch=900, loss=0.0048392\n",
      "[INFO] epoch=1000, loss=0.0039546\n"
     ]
    }
   ],
   "source": [
    "model.fit(X_train, y_train, epochs = 1000)"
   ]
  },
  {
   "cell_type": "markdown",
   "id": "d4673819",
   "metadata": {},
   "source": [
    "## Predicting with the ANN model"
   ]
  },
  {
   "cell_type": "code",
   "execution_count": 13,
   "id": "8216cd5e",
   "metadata": {},
   "outputs": [],
   "source": [
    "predictions = model.predict(X_test)\n",
    "predictions = predictions.argmax(axis = 1)"
   ]
  },
  {
   "cell_type": "markdown",
   "id": "3a425acf",
   "metadata": {},
   "source": [
    "## Evaluating the model"
   ]
  },
  {
   "cell_type": "code",
   "execution_count": 14,
   "id": "091c43ee",
   "metadata": {},
   "outputs": [
    {
     "name": "stdout",
     "output_type": "stream",
     "text": [
      "              precision    recall  f1-score   support\n",
      "\n",
      "           0       1.00      0.98      0.99        52\n",
      "           1       0.96      1.00      0.98        50\n",
      "           2       0.96      1.00      0.98        47\n",
      "           3       1.00      0.97      0.99        40\n",
      "           4       0.96      1.00      0.98        49\n",
      "           5       0.97      1.00      0.99        37\n",
      "           6       1.00      1.00      1.00        50\n",
      "           7       1.00      0.92      0.96        37\n",
      "           8       0.95      0.95      0.95        41\n",
      "           9       0.98      0.94      0.96        47\n",
      "\n",
      "    accuracy                           0.98       450\n",
      "   macro avg       0.98      0.98      0.98       450\n",
      "weighted avg       0.98      0.98      0.98       450\n",
      "\n"
     ]
    }
   ],
   "source": [
    "cr = classification_report(y_test.argmax(axis = 1), predictions)\n",
    "print(cr)"
   ]
  },
  {
   "cell_type": "code",
   "execution_count": null,
   "id": "abdb9399",
   "metadata": {},
   "outputs": [],
   "source": []
  }
 ],
 "metadata": {
  "kernelspec": {
   "display_name": "Python 3",
   "language": "python",
   "name": "python3"
  },
  "language_info": {
   "codemirror_mode": {
    "name": "ipython",
    "version": 3
   },
   "file_extension": ".py",
   "mimetype": "text/x-python",
   "name": "python",
   "nbconvert_exporter": "python",
   "pygments_lexer": "ipython3",
   "version": "3.7.10"
  }
 },
 "nbformat": 4,
 "nbformat_minor": 5
}
