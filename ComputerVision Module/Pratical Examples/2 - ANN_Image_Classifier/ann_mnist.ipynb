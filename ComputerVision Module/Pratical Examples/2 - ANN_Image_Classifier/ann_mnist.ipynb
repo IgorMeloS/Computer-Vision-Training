{
 "cells": [
  {
   "cell_type": "markdown",
   "id": "18ffe5df",
   "metadata": {},
   "source": [
    "# Image classifier with Artificial Neural Network"
   ]
  },
  {
   "cell_type": "markdown",
   "id": "8aaf9f7a",
   "metadata": {},
   "source": [
    "## Importing Libraries"
   ]
  },
  {
   "cell_type": "code",
   "execution_count": 15,
   "id": "d74f51d7",
   "metadata": {},
   "outputs": [],
   "source": [
    "from compvis.ann import ANN\n",
    "from sklearn.preprocessing import LabelBinarizer\n",
    "from sklearn.model_selection import train_test_split\n",
    "from sklearn.metrics import classification_report\n",
    "from sklearn import datasets"
   ]
  },
  {
   "cell_type": "markdown",
   "id": "7eab5300",
   "metadata": {},
   "source": [
    "## Loading the dataset"
   ]
  },
  {
   "cell_type": "code",
   "execution_count": 5,
   "id": "f8792af9",
   "metadata": {},
   "outputs": [],
   "source": [
    "digits = datasets.load_digits()\n",
    "data = digits.data.astype(\"float\")\n",
    "data = (data - data.min()) / (data.max() - data.min())"
   ]
  },
  {
   "cell_type": "code",
   "execution_count": 6,
   "id": "65e2263a",
   "metadata": {},
   "outputs": [
    {
     "name": "stdout",
     "output_type": "stream",
     "text": [
      "[INFO] samples: 1797, dim: 64\n"
     ]
    }
   ],
   "source": [
    "print(\"[INFO] samples: {}, dim: {}\".format(data.shape[0], data.shape[1]))"
   ]
  },
  {
   "cell_type": "markdown",
   "id": "ed542b76",
   "metadata": {},
   "source": [
    "**splitting the dataset into train and test set**"
   ]
  },
  {
   "cell_type": "code",
   "execution_count": 7,
   "id": "c8721f99",
   "metadata": {},
   "outputs": [],
   "source": [
    "(X_train, X_test, y_train, y_test) = train_test_split(data, digits.target,\n",
    "                                                      test_size = 0.25)"
   ]
  },
  {
   "cell_type": "code",
   "execution_count": 19,
   "id": "c1f8f32e",
   "metadata": {},
   "outputs": [
    {
     "data": {
      "text/plain": [
       "(1347, 64)"
      ]
     },
     "execution_count": 19,
     "metadata": {},
     "output_type": "execute_result"
    }
   ],
   "source": [
    "X_train.shape"
   ]
  },
  {
   "cell_type": "code",
   "execution_count": 23,
   "id": "b66ce2a2",
   "metadata": {},
   "outputs": [
    {
     "data": {
      "text/plain": [
       "array([[0, 1, 0, ..., 0, 0, 0],\n",
       "       [0, 1, 0, ..., 0, 0, 0],\n",
       "       [1, 0, 0, ..., 0, 0, 0],\n",
       "       ...,\n",
       "       [0, 1, 0, ..., 0, 0, 0],\n",
       "       [0, 0, 1, ..., 0, 0, 0],\n",
       "       [0, 0, 0, ..., 0, 0, 0]])"
      ]
     },
     "execution_count": 23,
     "metadata": {},
     "output_type": "execute_result"
    }
   ],
   "source": [
    "y_train"
   ]
  },
  {
   "cell_type": "markdown",
   "id": "eb2889a9",
   "metadata": {},
   "source": [
    "**Encoding the target variable**"
   ]
  },
  {
   "cell_type": "code",
   "execution_count": 8,
   "id": "fc4a9552",
   "metadata": {},
   "outputs": [],
   "source": [
    "y_train = LabelBinarizer().fit_transform(y_train)\n",
    "y_test = LabelBinarizer().fit_transform(y_test)"
   ]
  },
  {
   "cell_type": "code",
   "execution_count": 25,
   "id": "02298ec4",
   "metadata": {},
   "outputs": [
    {
     "data": {
      "text/plain": [
       "(1347, 10)"
      ]
     },
     "execution_count": 25,
     "metadata": {},
     "output_type": "execute_result"
    }
   ],
   "source": [
    "y_train.shape"
   ]
  },
  {
   "cell_type": "code",
   "execution_count": 10,
   "id": "36dd15f6",
   "metadata": {},
   "outputs": [],
   "source": [
    "model = ANN([X_train.shape[1], 32, 16, 10], alpha=0.01)"
   ]
  },
  {
   "cell_type": "code",
   "execution_count": 11,
   "id": "d504c28a",
   "metadata": {},
   "outputs": [
    {
     "name": "stdout",
     "output_type": "stream",
     "text": [
      "[INFO] <compvis.ann.neuralnetwork.ANN object at 0x7fb72b49a450>\n"
     ]
    }
   ],
   "source": [
    "print(\"[INFO] {}\".format(model))"
   ]
  },
  {
   "cell_type": "code",
   "execution_count": 12,
   "id": "2b2cfcfe",
   "metadata": {},
   "outputs": [
    {
     "name": "stdout",
     "output_type": "stream",
     "text": [
      "[INFO] epoch=1, loss=0.4557201\n",
      "[INFO] epoch=100, loss=0.2630226\n",
      "[INFO] epoch=200, loss=0.0809367\n",
      "[INFO] epoch=300, loss=0.0340093\n",
      "[INFO] epoch=400, loss=0.0203113\n",
      "[INFO] epoch=500, loss=0.0141723\n",
      "[INFO] epoch=600, loss=0.0103960\n",
      "[INFO] epoch=700, loss=0.0079111\n",
      "[INFO] epoch=800, loss=0.0061163\n",
      "[INFO] epoch=900, loss=0.0048392\n",
      "[INFO] epoch=1000, loss=0.0039546\n"
     ]
    }
   ],
   "source": [
    "model.fit(X_train, y_train, epochs = 1000)"
   ]
  },
  {
   "cell_type": "markdown",
   "id": "fa652edd",
   "metadata": {},
   "source": [
    "## Predicting with the ANN model"
   ]
  },
  {
   "cell_type": "code",
   "execution_count": 26,
   "id": "9dfbfeed",
   "metadata": {},
   "outputs": [],
   "source": [
    "predictions = model.predict(X_test)"
   ]
  },
  {
   "cell_type": "code",
   "execution_count": 28,
   "id": "a9f27ef0",
   "metadata": {},
   "outputs": [
    {
     "data": {
      "text/plain": [
       "(450, 10)"
      ]
     },
     "execution_count": 28,
     "metadata": {},
     "output_type": "execute_result"
    }
   ],
   "source": [
    "predictions.shape"
   ]
  },
  {
   "cell_type": "code",
   "execution_count": null,
   "id": "186d5a71",
   "metadata": {},
   "outputs": [],
   "source": [
    "predictions = predictions.argmax(axis = 1)"
   ]
  },
  {
   "cell_type": "markdown",
   "id": "758d55ec",
   "metadata": {},
   "source": [
    "## Evaluating the model"
   ]
  },
  {
   "cell_type": "code",
   "execution_count": 14,
   "id": "ce76573c",
   "metadata": {},
   "outputs": [
    {
     "name": "stdout",
     "output_type": "stream",
     "text": [
      "              precision    recall  f1-score   support\n",
      "\n",
      "           0       1.00      0.98      0.99        52\n",
      "           1       0.96      1.00      0.98        50\n",
      "           2       0.96      1.00      0.98        47\n",
      "           3       1.00      0.97      0.99        40\n",
      "           4       0.96      1.00      0.98        49\n",
      "           5       0.97      1.00      0.99        37\n",
      "           6       1.00      1.00      1.00        50\n",
      "           7       1.00      0.92      0.96        37\n",
      "           8       0.95      0.95      0.95        41\n",
      "           9       0.98      0.94      0.96        47\n",
      "\n",
      "    accuracy                           0.98       450\n",
      "   macro avg       0.98      0.98      0.98       450\n",
      "weighted avg       0.98      0.98      0.98       450\n",
      "\n"
     ]
    }
   ],
   "source": [
    "cr = classification_report(y_test.argmax(axis = 1), predictions)\n",
    "print(cr)"
   ]
  },
  {
   "cell_type": "code",
   "execution_count": null,
   "id": "df9ddcd8",
   "metadata": {},
   "outputs": [],
   "source": []
  }
 ],
 "metadata": {
  "kernelspec": {
   "display_name": "Python 3",
   "language": "python",
   "name": "python3"
  },
  "language_info": {
   "codemirror_mode": {
    "name": "ipython",
    "version": 3
   },
   "file_extension": ".py",
   "mimetype": "text/x-python",
   "name": "python",
   "nbconvert_exporter": "python",
   "pygments_lexer": "ipython3",
   "version": "3.7.10"
  }
 },
 "nbformat": 4,
 "nbformat_minor": 5
}
