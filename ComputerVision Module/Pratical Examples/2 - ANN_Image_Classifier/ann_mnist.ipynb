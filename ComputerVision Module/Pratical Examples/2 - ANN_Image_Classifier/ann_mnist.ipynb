{
 "cells": [
  {
   "cell_type": "markdown",
   "id": "18ffe5df",
   "metadata": {},
   "source": [
    "# Image classifier with Artificial Neural Network\n",
    "\n",
    "Image classification with Machine Learning models, can lead us to good results, but these results are not enough to reach"
   ]
  },
  {
   "cell_type": "markdown",
   "id": "8aaf9f7a",
   "metadata": {},
   "source": [
    "## Importing Libraries"
   ]
  },
  {
   "cell_type": "code",
   "execution_count": 1,
   "id": "d74f51d7",
   "metadata": {},
   "outputs": [],
   "source": [
    "from compvis.ann import ANN\n",
    "from sklearn.preprocessing import LabelBinarizer\n",
    "from sklearn.model_selection import train_test_split\n",
    "from sklearn.metrics import classification_report\n",
    "from sklearn import datasets"
   ]
  },
  {
   "cell_type": "markdown",
   "id": "7eab5300",
   "metadata": {},
   "source": [
    "## Loading the dataset"
   ]
  },
  {
   "cell_type": "code",
   "execution_count": 2,
   "id": "f8792af9",
   "metadata": {},
   "outputs": [],
   "source": [
    "digits = datasets.load_digits()\n",
    "data = digits.data.astype(\"float\")\n",
    "data = (data - data.min()) / (data.max() - data.min())"
   ]
  },
  {
   "cell_type": "code",
   "execution_count": 3,
   "id": "65e2263a",
   "metadata": {},
   "outputs": [
    {
     "name": "stdout",
     "output_type": "stream",
     "text": [
      "[INFO] samples: 1797, dim: 64\n"
     ]
    }
   ],
   "source": [
    "print(\"[INFO] samples: {}, dim: {}\".format(data.shape[0], data.shape[1]))"
   ]
  },
  {
   "cell_type": "markdown",
   "id": "ed542b76",
   "metadata": {},
   "source": [
    "**splitting the dataset into train and test set**"
   ]
  },
  {
   "cell_type": "code",
   "execution_count": 4,
   "id": "c8721f99",
   "metadata": {},
   "outputs": [],
   "source": [
    "(X_train, X_test, y_train, y_test) = train_test_split(data, digits.target,\n",
    "                                                      test_size = 0.25)"
   ]
  },
  {
   "cell_type": "code",
   "execution_count": 5,
   "id": "c1f8f32e",
   "metadata": {},
   "outputs": [
    {
     "data": {
      "text/plain": [
       "(1347, 64)"
      ]
     },
     "execution_count": 5,
     "metadata": {},
     "output_type": "execute_result"
    }
   ],
   "source": [
    "X_train.shape"
   ]
  },
  {
   "cell_type": "code",
   "execution_count": 6,
   "id": "b66ce2a2",
   "metadata": {},
   "outputs": [
    {
     "data": {
      "text/plain": [
       "(1347,)"
      ]
     },
     "execution_count": 6,
     "metadata": {},
     "output_type": "execute_result"
    }
   ],
   "source": [
    "y_train.shape"
   ]
  },
  {
   "cell_type": "markdown",
   "id": "eb2889a9",
   "metadata": {},
   "source": [
    "**Encoding the target variable**"
   ]
  },
  {
   "cell_type": "code",
   "execution_count": 7,
   "id": "fc4a9552",
   "metadata": {},
   "outputs": [],
   "source": [
    "y_train = LabelBinarizer().fit_transform(y_train)\n",
    "y_test = LabelBinarizer().fit_transform(y_test)"
   ]
  },
  {
   "cell_type": "code",
   "execution_count": 8,
   "id": "02298ec4",
   "metadata": {},
   "outputs": [
    {
     "data": {
      "text/plain": [
       "array([[0, 0, 0, 0, 0, 0, 0, 0, 1, 0],\n",
       "       [0, 0, 0, 0, 0, 0, 0, 1, 0, 0],\n",
       "       [0, 0, 0, 0, 0, 0, 1, 0, 0, 0],\n",
       "       [0, 0, 0, 0, 0, 1, 0, 0, 0, 0],\n",
       "       [0, 1, 0, 0, 0, 0, 0, 0, 0, 0]])"
      ]
     },
     "execution_count": 8,
     "metadata": {},
     "output_type": "execute_result"
    }
   ],
   "source": [
    "y_train[:5]"
   ]
  },
  {
   "cell_type": "code",
   "execution_count": 9,
   "id": "36dd15f6",
   "metadata": {},
   "outputs": [],
   "source": [
    "model = ANN([X_train.shape[1], 32, 16, 10], alpha=0.01)"
   ]
  },
  {
   "cell_type": "code",
   "execution_count": 10,
   "id": "d504c28a",
   "metadata": {},
   "outputs": [
    {
     "name": "stdout",
     "output_type": "stream",
     "text": [
      "[INFO] <compvis.ann.neuralnetwork.ANN object at 0x7fd5b979b3d0>\n"
     ]
    }
   ],
   "source": [
    "print(\"[INFO] {}\".format(model))"
   ]
  },
  {
   "cell_type": "code",
   "execution_count": 11,
   "id": "1281c030",
   "metadata": {},
   "outputs": [
    {
     "data": {
      "text/plain": [
       "(1347, 64)"
      ]
     },
     "execution_count": 11,
     "metadata": {},
     "output_type": "execute_result"
    }
   ],
   "source": [
    "X_train.shape"
   ]
  },
  {
   "cell_type": "code",
   "execution_count": 12,
   "id": "ef543e6e",
   "metadata": {},
   "outputs": [
    {
     "data": {
      "text/plain": [
       "(1347, 10)"
      ]
     },
     "execution_count": 12,
     "metadata": {},
     "output_type": "execute_result"
    }
   ],
   "source": [
    "y_train.shape"
   ]
  },
  {
   "cell_type": "code",
   "execution_count": 13,
   "id": "2b2cfcfe",
   "metadata": {},
   "outputs": [
    {
     "name": "stdout",
     "output_type": "stream",
     "text": [
      "[INFO] epoch 1, loss: 0.4550756\n",
      "[INFO] epoch 100, loss: 0.2484587\n",
      "[INFO] epoch 200, loss: 0.0532513\n",
      "[INFO] epoch 300, loss: 0.0272024\n",
      "[INFO] epoch 400, loss: 0.0184377\n",
      "[INFO] epoch 500, loss: 0.0135709\n",
      "[INFO] epoch 600, loss: 0.0105309\n",
      "[INFO] epoch 700, loss: 0.0085176\n",
      "[INFO] epoch 800, loss: 0.0068691\n",
      "[INFO] epoch 900, loss: 0.0051879\n",
      "[INFO] epoch 1000, loss: 0.0042997\n"
     ]
    }
   ],
   "source": [
    "model.fit(X_train, y_train, epochs = 1000)"
   ]
  },
  {
   "cell_type": "markdown",
   "id": "fa652edd",
   "metadata": {},
   "source": [
    "## Predicting with the ANN model"
   ]
  },
  {
   "cell_type": "code",
   "execution_count": 14,
   "id": "9dfbfeed",
   "metadata": {},
   "outputs": [],
   "source": [
    "predictions = model.predict(X_test)"
   ]
  },
  {
   "cell_type": "code",
   "execution_count": 15,
   "id": "186d5a71",
   "metadata": {},
   "outputs": [],
   "source": [
    "predictions = predictions.argmax(axis = 1)"
   ]
  },
  {
   "cell_type": "markdown",
   "id": "758d55ec",
   "metadata": {},
   "source": [
    "## Evaluating the model"
   ]
  },
  {
   "cell_type": "code",
   "execution_count": 16,
   "id": "ce76573c",
   "metadata": {},
   "outputs": [
    {
     "name": "stdout",
     "output_type": "stream",
     "text": [
      "              precision    recall  f1-score   support\n",
      "\n",
      "           0       0.98      1.00      0.99        49\n",
      "           1       0.91      1.00      0.96        43\n",
      "           2       1.00      0.95      0.98        42\n",
      "           3       0.94      0.96      0.95        47\n",
      "           4       0.98      1.00      0.99        46\n",
      "           5       1.00      0.92      0.96        52\n",
      "           6       0.98      0.98      0.98        43\n",
      "           7       0.98      0.98      0.98        41\n",
      "           8       0.96      0.90      0.93        51\n",
      "           9       0.92      0.97      0.95        36\n",
      "\n",
      "    accuracy                           0.96       450\n",
      "   macro avg       0.96      0.97      0.96       450\n",
      "weighted avg       0.97      0.96      0.96       450\n",
      "\n"
     ]
    }
   ],
   "source": [
    "cr = classification_report(y_test.argmax(axis = 1), predictions)\n",
    "print(cr)"
   ]
  }
 ],
 "metadata": {
  "kernelspec": {
   "display_name": "Python 3",
   "language": "python",
   "name": "python3"
  },
  "language_info": {
   "codemirror_mode": {
    "name": "ipython",
    "version": 3
   },
   "file_extension": ".py",
   "mimetype": "text/x-python",
   "name": "python",
   "nbconvert_exporter": "python",
   "pygments_lexer": "ipython3",
   "version": "3.7.10"
  }
 },
 "nbformat": 4,
 "nbformat_minor": 5
}
