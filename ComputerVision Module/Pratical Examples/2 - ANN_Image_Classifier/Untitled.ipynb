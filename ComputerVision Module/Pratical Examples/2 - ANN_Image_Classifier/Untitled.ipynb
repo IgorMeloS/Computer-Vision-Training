{
 "cells": [
  {
   "cell_type": "markdown",
   "id": "41e806eb",
   "metadata": {},
   "source": [
    "# CIFAR10 dataset on the Artificial Neural Network"
   ]
  },
  {
   "cell_type": "markdown",
   "id": "b677ac35",
   "metadata": {},
   "source": [
    "## Importing Libraries"
   ]
  },
  {
   "cell_type": "code",
   "execution_count": 1,
   "id": "7bc5d59f",
   "metadata": {},
   "outputs": [],
   "source": [
    "from compvis.ann import ANN\n",
    "from sklearn.preprocessing import LabelBinarizer\n",
    "from sklearn.model_selection import train_test_split\n",
    "from sklearn.metrics import classification_report\n",
    "from sklearn import datasets\n",
    "from sklearn.preprocessing import LabelBinarizer\n",
    "from sklearn.model_selection import train_test_split\n",
    "from sklearn.metrics import classification_report\n",
    "from tensorflow.keras.datasets import cifar10\n",
    "import matplotlib.pyplot as plt\n",
    "import numpy as np\n"
   ]
  },
  {
   "cell_type": "markdown",
   "id": "17a0b7ec",
   "metadata": {},
   "source": [
    "## Loading the CIFAR10 dataset from Scikit-Learn"
   ]
  },
  {
   "cell_type": "code",
   "execution_count": 2,
   "id": "a465e996",
   "metadata": {},
   "outputs": [],
   "source": [
    "((X_train, y_train), (X_test, y_test)) = cifar10.load_data()"
   ]
  },
  {
   "cell_type": "markdown",
   "id": "a0217e84",
   "metadata": {},
   "source": [
    "## Splitting the dataset into training and test set"
   ]
  },
  {
   "cell_type": "code",
   "execution_count": 3,
   "id": "70069efb",
   "metadata": {},
   "outputs": [],
   "source": [
    "X_train = X_train.astype(\"float\")/255. # Normalizing\n",
    "X_test = X_test.astype(\"float\")/255.\n",
    "X_train = X_train.reshape((X_train.shape[0], 3072)) #reshaping\n",
    "X_test = X_test.reshape((X_test.shape[0], 3072))"
   ]
  },
  {
   "cell_type": "markdown",
   "id": "01411824",
   "metadata": {},
   "source": [
    "**Label binarize to transform labels into numbers**"
   ]
  },
  {
   "cell_type": "code",
   "execution_count": 4,
   "id": "ca358e85",
   "metadata": {},
   "outputs": [],
   "source": [
    "lb = LabelBinarizer()\n",
    "y_train = lb.fit_transform(y_train)\n",
    "y_test = lb.transform(y_test)"
   ]
  },
  {
   "cell_type": "code",
   "execution_count": null,
   "id": "707d8f86",
   "metadata": {},
   "outputs": [],
   "source": [
    "labelNames = [\"airplane\", \"automobile\", \"bird\", \"cat\", \"deer\", \"dog\", \"frog\",\n",
    "              \"horse\", \"ship\", \"truck\"]"
   ]
  },
  {
   "cell_type": "markdown",
   "id": "122f45e6",
   "metadata": {},
   "source": [
    "## Creating the model"
   ]
  },
  {
   "cell_type": "code",
   "execution_count": 5,
   "id": "483d98cc",
   "metadata": {},
   "outputs": [],
   "source": [
    "ann = ANN([X_train.shape[1], 32, 16, 10], alpha=0.01)"
   ]
  },
  {
   "cell_type": "code",
   "execution_count": 6,
   "id": "7d015006",
   "metadata": {},
   "outputs": [
    {
     "name": "stdout",
     "output_type": "stream",
     "text": [
      "NeuralNetwork: 3072-32-16-10\n"
     ]
    }
   ],
   "source": [
    "print(ann)"
   ]
  },
  {
   "cell_type": "markdown",
   "id": "d4cf8b05",
   "metadata": {},
   "source": [
    "### Training the model"
   ]
  },
  {
   "cell_type": "code",
   "execution_count": null,
   "id": "f8c988fd",
   "metadata": {},
   "outputs": [
    {
     "name": "stdout",
     "output_type": "stream",
     "text": [
      "[INFO] Training the model\n",
      "epoch 1, loss: 0.4363448\n",
      "epoch 10, loss: 0.3664302\n",
      "epoch 20, loss: 0.3429545\n",
      "epoch 30, loss: 0.3325267\n",
      "epoch 40, loss: 0.3233836\n",
      "epoch 50, loss: 0.3187959\n",
      "epoch 60, loss: 0.3161726\n"
     ]
    }
   ],
   "source": [
    "ann.fit(X_train, y_train, epochs = 100, verbose=10)"
   ]
  },
  {
   "cell_type": "markdown",
   "id": "605811b7",
   "metadata": {},
   "source": [
    "**Predicting on the model**"
   ]
  },
  {
   "cell_type": "code",
   "execution_count": null,
   "id": "1cabc0ed",
   "metadata": {},
   "outputs": [],
   "source": [
    "predictions = ann.predict(X_test)"
   ]
  },
  {
   "cell_type": "markdown",
   "id": "4c99568c",
   "metadata": {},
   "source": [
    "**Evaluating the model**"
   ]
  },
  {
   "cell_type": "code",
   "execution_count": null,
   "id": "eb54e749",
   "metadata": {},
   "outputs": [],
   "source": [
    "cr = classification_report(y_test.argmax(axis=1), predictions.argmax(axis=1),\n",
    "                           target_names = labelNames)"
   ]
  },
  {
   "cell_type": "code",
   "execution_count": null,
   "id": "c7e4729c",
   "metadata": {},
   "outputs": [],
   "source": [
    "print(cr)"
   ]
  },
  {
   "cell_type": "markdown",
   "id": "71fcb566",
   "metadata": {},
   "source": [
    "## TensorFlow"
   ]
  },
  {
   "cell_type": "code",
   "execution_count": null,
   "id": "6ece2ea7",
   "metadata": {},
   "outputs": [],
   "source": [
    "from tensorflow.keras.models import Sequential\n",
    "from tensorflow.keras.layers import Dense\n",
    "from tensorflow.keras.optimizers import SGD"
   ]
  },
  {
   "cell_type": "markdown",
   "id": "c1b12d1f",
   "metadata": {},
   "source": [
    "### Creating the Sequential model 3072-1024-512-10"
   ]
  },
  {
   "cell_type": "code",
   "execution_count": null,
   "id": "7f6304f6",
   "metadata": {},
   "outputs": [],
   "source": [
    "model = Sequential() # To create the network\n",
    "model.add(Dense(1024, input_shape=(3072, ), activation=\"relu\")) # To connect the input layer with the first hidden layer\n",
    "model.add(Dense(512, activation=\"relu\")) # To connect the first hidden layer with the second hidden layer\n",
    "model.add(Dense(10, activation=\"softmax\")) # To connect the second hidden layer with the output layer"
   ]
  },
  {
   "cell_type": "markdown",
   "id": "012fdf69",
   "metadata": {},
   "source": [
    "### Training the model"
   ]
  },
  {
   "cell_type": "code",
   "execution_count": null,
   "id": "4343c157",
   "metadata": {},
   "outputs": [],
   "source": [
    "sgd = SGD(0.01) # to optimizer the model \n",
    "\n",
    "model.compile(loss=\"categorical_crossentropy\", optimizer=sgd, metrics=[\"accuracy\"]) # compiling the model"
   ]
  },
  {
   "cell_type": "code",
   "execution_count": null,
   "id": "1aa17bec",
   "metadata": {},
   "outputs": [],
   "source": [
    "# Fitting\n",
    "H = model.fit(X_train, y_train, validation_data=(X_test, y_test),\n",
    "              epochs = 100, batch_size=32)"
   ]
  },
  {
   "cell_type": "markdown",
   "id": "2461a78b",
   "metadata": {},
   "source": [
    "### Predicting and evaluation\n"
   ]
  },
  {
   "cell_type": "code",
   "execution_count": null,
   "id": "4d0a3b1b",
   "metadata": {},
   "outputs": [],
   "source": [
    "preds = model.predict(X_test, batch_size=32) # to predict"
   ]
  },
  {
   "cell_type": "code",
   "execution_count": null,
   "id": "5aa73aba",
   "metadata": {},
   "outputs": [],
   "source": [
    "cr = classification_report(y_test.argmax(axis=1), preds.argmax(axis=1),\n",
    "                           target_names = labelNames) "
   ]
  },
  {
   "cell_type": "code",
   "execution_count": null,
   "id": "eac45368",
   "metadata": {},
   "outputs": [],
   "source": [
    "print(cr)"
   ]
  },
  {
   "cell_type": "markdown",
   "id": "97fa37b7",
   "metadata": {},
   "source": [
    "### Visualizing the metrics "
   ]
  },
  {
   "cell_type": "code",
   "execution_count": null,
   "id": "e3e765b8",
   "metadata": {},
   "outputs": [],
   "source": [
    "plt.style.use(\"ggplot\")\n",
    "plt.figure(figsize=(20,20))\n",
    "plt.plot(np.arange(0, 100), H.history[\"loss\"], label=\"train_loss\")\n",
    "plt.plot(np.arange(0, 100), H.history[\"val_loss\"], label=\"val_loss\")\n",
    "plt.plot(np.arange(0, 100), H.history[\"accuracy\"], label=\"train_acc\")\n",
    "plt.plot(np.arange(0, 100), H.history[\"val_accuracy\"], label=\"val_acc\")\n",
    "plt.title(\"Training Loss and Accuracy\")\n",
    "plt.xlabel(\"Epoch #\")\n",
    "plt.ylabel(\"Loss/Accuracy\")\n",
    "plt.legend()\n",
    "plt.show()"
   ]
  },
  {
   "cell_type": "code",
   "execution_count": null,
   "id": "45536882",
   "metadata": {},
   "outputs": [],
   "source": []
  }
 ],
 "metadata": {
  "kernelspec": {
   "display_name": "Python 3",
   "language": "python",
   "name": "python3"
  },
  "language_info": {
   "codemirror_mode": {
    "name": "ipython",
    "version": 3
   },
   "file_extension": ".py",
   "mimetype": "text/x-python",
   "name": "python",
   "nbconvert_exporter": "python",
   "pygments_lexer": "ipython3",
   "version": "3.7.10"
  }
 },
 "nbformat": 4,
 "nbformat_minor": 5
}
