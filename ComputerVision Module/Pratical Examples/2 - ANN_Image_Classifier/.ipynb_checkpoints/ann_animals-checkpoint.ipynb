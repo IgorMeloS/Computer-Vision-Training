{
 "cells": [
  {
   "cell_type": "markdown",
   "id": "0b150ff7",
   "metadata": {},
   "source": [
    "# Image classifier with Artificial Neural Network"
   ]
  },
  {
   "cell_type": "markdown",
   "id": "ffa0f7ba",
   "metadata": {},
   "source": [
    "## Importing Libraries"
   ]
  },
  {
   "cell_type": "code",
   "execution_count": 1,
   "id": "ea19ad55",
   "metadata": {},
   "outputs": [
    {
     "name": "stderr",
     "output_type": "stream",
     "text": [
      "Using TensorFlow backend.\n",
      "WARNING:root:Limited tf.compat.v2.summary API due to missing TensorBoard installation.\n",
      "WARNING:root:Limited tf.compat.v2.summary API due to missing TensorBoard installation.\n",
      "WARNING:root:Limited tf.compat.v2.summary API due to missing TensorBoard installation.\n",
      "WARNING:root:Limited tf.compat.v2.summary API due to missing TensorBoard installation.\n",
      "WARNING:root:Limited tf.compat.v2.summary API due to missing TensorBoard installation.\n",
      "WARNING:root:Limited tf.compat.v2.summary API due to missing TensorBoard installation.\n",
      "WARNING:root:Limited tf.summary API due to missing TensorBoard installation.\n"
     ]
    }
   ],
   "source": [
    "from sklearn.preprocessing import LabelEncoder\n",
    "from sklearn.preprocessing import OneHotEncoder\n",
    "from sklearn.model_selection import train_test_split\n",
    "from sklearn.metrics import classification_report\n",
    "from compvis.ann import ANN\n",
    "from compvis.preprocessing import SimplePreprocessor # compvis module\n",
    "from compvis.datasets import SimpleDatasetLoader\n",
    "from imutils import paths\n",
    "import numpy as np"
   ]
  },
  {
   "cell_type": "code",
   "execution_count": 2,
   "id": "d47a2989",
   "metadata": {},
   "outputs": [],
   "source": [
    "dataset = \"/home/igor/Documents/Artificial_Inteligence/Datasets/Animals\" # dataset path\n",
    "imagePaths = list(paths.list_images(dataset)) # creating a list of images paths"
   ]
  },
  {
   "cell_type": "code",
   "execution_count": 3,
   "id": "d9bae08d",
   "metadata": {},
   "outputs": [
    {
     "name": "stdout",
     "output_type": "stream",
     "text": [
      "[INFO] processed 500/3000\n",
      "[INFO] processed 1000/3000\n",
      "[INFO] processed 1500/3000\n",
      "[INFO] processed 2000/3000\n",
      "[INFO] processed 2500/3000\n",
      "[INFO] processed 3000/3000\n"
     ]
    }
   ],
   "source": [
    "sp = SimplePreprocessor(32, 32) # object to resize\n",
    "sdl = SimpleDatasetLoader(preprocessors=[sp]) # object to load from disk and process\n",
    "(data, labels) = sdl.load(imagePaths, verbose=500) # function load"
   ]
  },
  {
   "cell_type": "code",
   "execution_count": 4,
   "id": "836112f4",
   "metadata": {},
   "outputs": [
    {
     "data": {
      "text/plain": [
       "3000"
      ]
     },
     "execution_count": 4,
     "metadata": {},
     "output_type": "execute_result"
    }
   ],
   "source": [
    "labels.shape[0]"
   ]
  },
  {
   "cell_type": "code",
   "execution_count": 5,
   "id": "78d3a510",
   "metadata": {},
   "outputs": [],
   "source": [
    "labels = labels.reshape([labels.shape[0], 1])"
   ]
  },
  {
   "cell_type": "code",
   "execution_count": 6,
   "id": "9562e1ad",
   "metadata": {},
   "outputs": [
    {
     "data": {
      "text/plain": [
       "(3000, 1)"
      ]
     },
     "execution_count": 6,
     "metadata": {},
     "output_type": "execute_result"
    }
   ],
   "source": [
    "labels.shape"
   ]
  },
  {
   "cell_type": "code",
   "execution_count": 7,
   "id": "098ce6ae",
   "metadata": {},
   "outputs": [],
   "source": [
    "encoder = OneHotEncoder(dtype = int)"
   ]
  },
  {
   "cell_type": "code",
   "execution_count": 8,
   "id": "57d93a8d",
   "metadata": {},
   "outputs": [],
   "source": [
    "labels = encoder.fit_transform(labels).toarray()"
   ]
  },
  {
   "cell_type": "code",
   "execution_count": 9,
   "id": "a5462cf0",
   "metadata": {},
   "outputs": [
    {
     "data": {
      "text/plain": [
       "(3000, 3)"
      ]
     },
     "execution_count": 9,
     "metadata": {},
     "output_type": "execute_result"
    }
   ],
   "source": [
    "labels = labels.squeeze()\n",
    "labels.shape"
   ]
  },
  {
   "cell_type": "code",
   "execution_count": 10,
   "id": "8b374922",
   "metadata": {},
   "outputs": [],
   "source": [
    "data = data.reshape((data.shape[0], 3072))"
   ]
  },
  {
   "cell_type": "code",
   "execution_count": 11,
   "id": "d549b667",
   "metadata": {},
   "outputs": [
    {
     "name": "stdout",
     "output_type": "stream",
     "text": [
      "[INFO] features matrix: 9.0MB\n"
     ]
    }
   ],
   "source": [
    "print(\"[INFO] features matrix: {:.1f}MB\".format(data.nbytes / (1024 * 1000.0)))"
   ]
  },
  {
   "cell_type": "code",
   "execution_count": 12,
   "id": "bdd2bb55",
   "metadata": {},
   "outputs": [],
   "source": [
    "(X_train, X_test, y_train, y_test) = train_test_split(data, labels, test_size=0.25, random_state=42)"
   ]
  },
  {
   "cell_type": "code",
   "execution_count": 13,
   "id": "6d88412b",
   "metadata": {},
   "outputs": [
    {
     "data": {
      "text/plain": [
       "(2250, 3)"
      ]
     },
     "execution_count": 13,
     "metadata": {},
     "output_type": "execute_result"
    }
   ],
   "source": [
    "y_train.shape"
   ]
  },
  {
   "cell_type": "code",
   "execution_count": null,
   "id": "d6f1e241",
   "metadata": {},
   "outputs": [],
   "source": []
  },
  {
   "cell_type": "code",
   "execution_count": 17,
   "id": "865d3b47",
   "metadata": {},
   "outputs": [],
   "source": [
    "model = ANN([X_train.shape[1], 1024, 512, 3], alpha=0.01)"
   ]
  },
  {
   "cell_type": "code",
   "execution_count": 18,
   "id": "0b349a27",
   "metadata": {},
   "outputs": [
    {
     "data": {
      "text/plain": [
       "(2250, 3072)"
      ]
     },
     "execution_count": 18,
     "metadata": {},
     "output_type": "execute_result"
    }
   ],
   "source": [
    "X_train.shape"
   ]
  },
  {
   "cell_type": "code",
   "execution_count": null,
   "id": "8846fd7a",
   "metadata": {},
   "outputs": [],
   "source": []
  },
  {
   "cell_type": "code",
   "execution_count": null,
   "id": "068763f5",
   "metadata": {},
   "outputs": [],
   "source": []
  },
  {
   "cell_type": "code",
   "execution_count": null,
   "id": "7feeba47",
   "metadata": {},
   "outputs": [
    {
     "name": "stdout",
     "output_type": "stream",
     "text": [
      "[INFO] epoch=1, loss=0.3322832\n",
      "[INFO] epoch=2, loss=0.3294449\n"
     ]
    }
   ],
   "source": [
    "model.fit(X_train, y_train, epochs = 100, displayUpdate=1)"
   ]
  },
  {
   "cell_type": "code",
   "execution_count": null,
   "id": "7494fd5f",
   "metadata": {},
   "outputs": [],
   "source": []
  }
 ],
 "metadata": {
  "kernelspec": {
   "display_name": "Python 3",
   "language": "python",
   "name": "python3"
  },
  "language_info": {
   "codemirror_mode": {
    "name": "ipython",
    "version": 3
   },
   "file_extension": ".py",
   "mimetype": "text/x-python",
   "name": "python",
   "nbconvert_exporter": "python",
   "pygments_lexer": "ipython3",
   "version": "3.7.10"
  }
 },
 "nbformat": 4,
 "nbformat_minor": 5
}
