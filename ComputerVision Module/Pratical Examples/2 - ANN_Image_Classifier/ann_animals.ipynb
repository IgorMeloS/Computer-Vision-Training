{
 "cells": [
  {
   "cell_type": "markdown",
   "id": "0b150ff7",
   "metadata": {},
   "source": [
    "# Image classifier with Artificial Neural Network"
   ]
  },
  {
   "cell_type": "markdown",
   "id": "ffa0f7ba",
   "metadata": {},
   "source": [
    "## Importing Libraries"
   ]
  },
  {
   "cell_type": "code",
   "execution_count": 1,
   "id": "ea19ad55",
   "metadata": {},
   "outputs": [
    {
     "name": "stderr",
     "output_type": "stream",
     "text": [
      "Using TensorFlow backend.\n",
      "WARNING:root:Limited tf.compat.v2.summary API due to missing TensorBoard installation.\n",
      "WARNING:root:Limited tf.compat.v2.summary API due to missing TensorBoard installation.\n",
      "WARNING:root:Limited tf.compat.v2.summary API due to missing TensorBoard installation.\n",
      "WARNING:root:Limited tf.compat.v2.summary API due to missing TensorBoard installation.\n",
      "WARNING:root:Limited tf.compat.v2.summary API due to missing TensorBoard installation.\n",
      "WARNING:root:Limited tf.compat.v2.summary API due to missing TensorBoard installation.\n",
      "WARNING:root:Limited tf.summary API due to missing TensorBoard installation.\n"
     ]
    }
   ],
   "source": [
    "from sklearn.preprocessing import LabelEncoder\n",
    "from sklearn.preprocessing import OneHotEncoder\n",
    "from sklearn.model_selection import train_test_split\n",
    "from sklearn.metrics import classification_report\n",
    "from compvis.ann import ANN\n",
    "from compvis.preprocessing import SimplePreprocessor # compvis module\n",
    "from compvis.datasets import SimpleDatasetLoader\n",
    "from imutils import paths\n",
    "import numpy as np"
   ]
  },
  {
   "cell_type": "code",
   "execution_count": 2,
   "id": "d47a2989",
   "metadata": {},
   "outputs": [],
   "source": [
    "dataset = \"/home/igor/Documents/Artificial_Inteligence/Datasets/Animals\" # dataset path\n",
    "imagePaths = list(paths.list_images(dataset)) # creating a list of images paths"
   ]
  },
  {
   "cell_type": "code",
   "execution_count": 3,
   "id": "d9bae08d",
   "metadata": {},
   "outputs": [
    {
     "name": "stdout",
     "output_type": "stream",
     "text": [
      "[INFO] processed 500/3000\n",
      "[INFO] processed 1000/3000\n",
      "[INFO] processed 1500/3000\n",
      "[INFO] processed 2000/3000\n",
      "[INFO] processed 2500/3000\n",
      "[INFO] processed 3000/3000\n"
     ]
    }
   ],
   "source": [
    "sp = SimplePreprocessor(32, 32) # object to resize\n",
    "sdl = SimpleDatasetLoader(preprocessors=[sp]) # object to load from disk and process\n",
    "(data, labels) = sdl.load(imagePaths, verbose=500) # function load"
   ]
  },
  {
   "cell_type": "code",
   "execution_count": 4,
   "id": "78d3a510",
   "metadata": {},
   "outputs": [],
   "source": [
    "labels = labels.reshape([labels.shape[0], 1])"
   ]
  },
  {
   "cell_type": "code",
   "execution_count": 5,
   "id": "098ce6ae",
   "metadata": {},
   "outputs": [],
   "source": [
    "encoder = OneHotEncoder(dtype = int)\n",
    "labels = encoder.fit_transform(labels).toarray()"
   ]
  },
  {
   "cell_type": "code",
   "execution_count": 6,
   "id": "8b374922",
   "metadata": {},
   "outputs": [],
   "source": [
    "data = data.reshape((data.shape[0], 3072))"
   ]
  },
  {
   "cell_type": "code",
   "execution_count": 7,
   "id": "d549b667",
   "metadata": {},
   "outputs": [
    {
     "name": "stdout",
     "output_type": "stream",
     "text": [
      "[INFO] features matrix: 9.0MB\n"
     ]
    }
   ],
   "source": [
    "print(\"[INFO] features matrix: {:.1f}MB\".format(data.nbytes / (1024 * 1000.0)))"
   ]
  },
  {
   "cell_type": "code",
   "execution_count": 8,
   "id": "bdd2bb55",
   "metadata": {},
   "outputs": [],
   "source": [
    "(X_train, X_test, y_train, y_test) = train_test_split(data, labels, test_size=0.25, random_state=42)"
   ]
  },
  {
   "cell_type": "code",
   "execution_count": 9,
   "id": "865d3b47",
   "metadata": {},
   "outputs": [],
   "source": [
    "model = ANN([X_train.shape[1], 1024, 512, 3], alpha=0.01)"
   ]
  },
  {
   "cell_type": "code",
   "execution_count": null,
   "id": "7feeba47",
   "metadata": {},
   "outputs": [
    {
     "name": "stderr",
     "output_type": "stream",
     "text": [
      "/home/igor/Documents/Artificial_Inteligence/Modules/compvis/ann/neuralnetwork.py:36: RuntimeWarning: overflow encountered in exp\n",
      "  return 1.0 / (1 + np.exp(-x))\n"
     ]
    },
    {
     "name": "stdout",
     "output_type": "stream",
     "text": [
      "[INFO] epoch 1, loss: 0.3319153\n",
      "[INFO] epoch 2, loss: 0.3250312\n",
      "[INFO] epoch 3, loss: 0.3236082\n",
      "[INFO] epoch 4, loss: 0.3212700\n",
      "[INFO] epoch 5, loss: 0.3241863\n",
      "[INFO] epoch 6, loss: 0.3237866\n",
      "[INFO] epoch 7, loss: 0.3262239\n",
      "[INFO] epoch 8, loss: 0.3235564\n",
      "[INFO] epoch 9, loss: 0.3299400\n",
      "[INFO] epoch 10, loss: 0.3252192\n",
      "[INFO] epoch 11, loss: 0.3305001\n",
      "[INFO] epoch 12, loss: 0.3326849\n",
      "[INFO] epoch 13, loss: 0.3303610\n",
      "[INFO] epoch 14, loss: 0.3230217\n",
      "[INFO] epoch 15, loss: 0.3235259\n",
      "[INFO] epoch 16, loss: 0.3262402\n",
      "[INFO] epoch 17, loss: 0.3303010\n",
      "[INFO] epoch 18, loss: 0.3259920\n",
      "[INFO] epoch 19, loss: 0.3283638\n",
      "[INFO] epoch 20, loss: 0.3324684\n",
      "[INFO] epoch 21, loss: 0.3286765\n"
     ]
    }
   ],
   "source": [
    "model.fit(X_train, y_train, epochs = 100, verbose = 1)"
   ]
  },
  {
   "cell_type": "code",
   "execution_count": null,
   "id": "7494fd5f",
   "metadata": {},
   "outputs": [],
   "source": [
    "predictions = model.predict(X_test)"
   ]
  },
  {
   "cell_type": "code",
   "execution_count": null,
   "id": "fff4df1c",
   "metadata": {},
   "outputs": [],
   "source": [
    "predictions = predictions.argmax(axis = 1)"
   ]
  },
  {
   "cell_type": "code",
   "execution_count": null,
   "id": "789fb2f8",
   "metadata": {},
   "outputs": [],
   "source": [
    "predictions"
   ]
  },
  {
   "cell_type": "code",
   "execution_count": null,
   "id": "1b99ffe8",
   "metadata": {},
   "outputs": [],
   "source": [
    "y_test.argmax(axis = 1)"
   ]
  },
  {
   "cell_type": "code",
   "execution_count": null,
   "id": "9f22e977",
   "metadata": {},
   "outputs": [],
   "source": [
    "print(classification_report(y_test.argmax(axis=1), predictions))"
   ]
  },
  {
   "cell_type": "code",
   "execution_count": null,
   "id": "89811959",
   "metadata": {},
   "outputs": [],
   "source": []
  }
 ],
 "metadata": {
  "kernelspec": {
   "display_name": "Python 3",
   "language": "python",
   "name": "python3"
  },
  "language_info": {
   "codemirror_mode": {
    "name": "ipython",
    "version": 3
   },
   "file_extension": ".py",
   "mimetype": "text/x-python",
   "name": "python",
   "nbconvert_exporter": "python",
   "pygments_lexer": "ipython3",
   "version": "3.7.10"
  }
 },
 "nbformat": 4,
 "nbformat_minor": 5
}
