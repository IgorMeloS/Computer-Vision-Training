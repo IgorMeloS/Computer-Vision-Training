{
 "cells": [
  {
   "cell_type": "markdown",
   "id": "d0b045cc",
   "metadata": {},
   "source": [
    "# Transfer Learning - Fine Tuning\n",
    "\n",
    "Fine tuning is another technical of transfer learning. The process is composed by two step, the first of them is similar to the feature extraction, we define the top of the network to take care about the classification, while the body of the network uses the weights from the pre-trained model to extract features. In this step, the top of the network does not have access to the body of the network, tweaking the weights by himself.\n",
    "\n",
    "The second step is the fine tuning, in this moment the top of the network communicates with the body, tweaking the weights according the pre-trained model. This method can reach high accurate performances in smaller datasets. In this example, we consider the 17 Flowers dataset."
   ]
  },
  {
   "cell_type": "markdown",
   "id": "38b934e5",
   "metadata": {},
   "source": [
    "## Importing Libraries"
   ]
  },
  {
   "cell_type": "code",
   "execution_count": 1,
   "id": "ff27fb3e",
   "metadata": {},
   "outputs": [],
   "source": [
    "from sklearn.preprocessing import LabelBinarizer\n",
    "from sklearn.model_selection import train_test_split\n",
    "from sklearn.metrics import classification_report\n",
    "from compvis.preprocessing import ImageToArrayPreprocessor\n",
    "from compvis.preprocessing import ResizeAR\n",
    "from compvis.datasets import SimpleDatasetLoader\n",
    "from compvis.nn.cnns import FCHeadNet # class to create the top of the network\n",
    "from tensorflow.keras.callbacks import LearningRateScheduler\n",
    "from tensorflow.keras.preprocessing.image import ImageDataGenerator\n",
    "from tensorflow.keras.optimizers import RMSprop\n",
    "from tensorflow.keras.optimizers import SGD\n",
    "from tensorflow.keras.applications import VGG16\n",
    "from tensorflow.keras.layers import Input\n",
    "from tensorflow.keras.models import Model\n",
    "from imutils import paths\n",
    "import numpy as np\n",
    "import os"
   ]
  },
  {
   "cell_type": "markdown",
   "id": "635c3a1d",
   "metadata": {},
   "source": [
    "## Setting the dataset"
   ]
  },
  {
   "cell_type": "code",
   "execution_count": 2,
   "id": "87e4b14b",
   "metadata": {},
   "outputs": [],
   "source": [
    "dataset = \"/home/igor/Documents/Artificial_Inteligence/Datasets/17flowers\" # the path for the dataset"
   ]
  },
  {
   "cell_type": "markdown",
   "id": "ccfa59d4",
   "metadata": {},
   "source": [
    "**Making the list of images path**"
   ]
  },
  {
   "cell_type": "code",
   "execution_count": 3,
   "id": "6ba72749",
   "metadata": {},
   "outputs": [],
   "source": [
    "imagesPath = list(paths.list_images(dataset))"
   ]
  },
  {
   "cell_type": "markdown",
   "id": "78c845a5",
   "metadata": {},
   "source": [
    "**Getting the list of classes names**"
   ]
  },
  {
   "cell_type": "code",
   "execution_count": 4,
   "id": "ddbb5776",
   "metadata": {},
   "outputs": [],
   "source": [
    "classNames = [pt.split(os.path.sep)[-2] for pt in imagesPath] # Splitting the class from the path\n",
    "classNames = [str(x) for x in np.unique(classNames)]"
   ]
  },
  {
   "cell_type": "markdown",
   "id": "dd9fd3a8",
   "metadata": {},
   "source": [
    "### Loading and preprocessing the images\n"
   ]
  },
  {
   "cell_type": "code",
   "execution_count": 5,
   "id": "4100509e",
   "metadata": {},
   "outputs": [],
   "source": [
    "ar = ResizeAR(224, 224) # resizing considering aspect ratio\n",
    "iap = ImageToArrayPreprocessor()"
   ]
  },
  {
   "cell_type": "code",
   "execution_count": 6,
   "id": "f582e855",
   "metadata": {},
   "outputs": [
    {
     "name": "stdout",
     "output_type": "stream",
     "text": [
      "[INFO] processed 500/1360\n",
      "[INFO] processed 1000/1360\n"
     ]
    }
   ],
   "source": [
    "# loading the images and scale them into 0 and 1\n",
    "dl = SimpleDatasetLoader([ar, iap])\n",
    "(data, labels) = dl.load(imagesPath, verbose=500)\n",
    "data = data.astype(\"float\") / 255."
   ]
  },
  {
   "cell_type": "markdown",
   "id": "20335df8",
   "metadata": {},
   "source": [
    "### Splitting the dataset into training and test set"
   ]
  },
  {
   "cell_type": "code",
   "execution_count": 7,
   "id": "46ea60ce",
   "metadata": {},
   "outputs": [],
   "source": [
    "(X_train, X_test, y_train, y_test) = train_test_split(data, labels, test_size=0.25, random_state=42)"
   ]
  },
  {
   "cell_type": "markdown",
   "id": "dbbcf836",
   "metadata": {},
   "source": [
    "**Enconding the targets**"
   ]
  },
  {
   "cell_type": "code",
   "execution_count": 8,
   "id": "d682e92c",
   "metadata": {},
   "outputs": [],
   "source": [
    "le = LabelBinarizer()\n",
    "y_train = le.fit_transform(y_train)\n",
    "y_test = le.fit_transform(y_test)"
   ]
  },
  {
   "cell_type": "markdown",
   "id": "ac1f497b",
   "metadata": {},
   "source": [
    "## Building the model\n",
    "\n",
    "The model to apply the transfer learning using fine tuning is composed by two other models. We consider the base model (the pre-trained) and the top, in this example, we use the class FCHeadNet. This class build a top function composed by a Flatten, Dense, Dropout and Dense layers. Using the Keras Model class we can concatenate the two models."
   ]
  },
  {
   "cell_type": "code",
   "execution_count": 9,
   "id": "c92198be",
   "metadata": {},
   "outputs": [],
   "source": [
    "baseModel = VGG16(weights = \"imagenet\", include_top = False,\n",
    "                 input_tensor = Input(shape=(224, 224, 3)))"
   ]
  },
  {
   "cell_type": "code",
   "execution_count": 10,
   "id": "7bab7301",
   "metadata": {},
   "outputs": [],
   "source": [
    "FC = FCHeadNet.build(baseModel, len(classNames), 256)"
   ]
  },
  {
   "cell_type": "code",
   "execution_count": 11,
   "id": "7c5bc72b",
   "metadata": {},
   "outputs": [],
   "source": [
    "model = Model(inputs = baseModel.input, outputs = FC)"
   ]
  },
  {
   "cell_type": "markdown",
   "id": "ca32caa6",
   "metadata": {},
   "source": [
    "### Freezing the convolutional layers from VGG16\n",
    "\n",
    "The first step of the training, we don't want to train the weights from the VGG16 with the top of the network. For this reason, we frozen all layers in the body of the network."
   ]
  },
  {
   "cell_type": "code",
   "execution_count": 12,
   "id": "a7972d3a",
   "metadata": {},
   "outputs": [],
   "source": [
    "for layer in baseModel.layers:\n",
    "    layer.trainable = False"
   ]
  },
  {
   "cell_type": "markdown",
   "id": "e139b413",
   "metadata": {},
   "source": [
    "**Optimizer and regularization**\n",
    "\n",
    "We consider the optimization method RMS propagation to tweak the weights and Data Augmentation as regularization, to try a better train process."
   ]
  },
  {
   "cell_type": "code",
   "execution_count": 13,
   "id": "cd25fe51",
   "metadata": {},
   "outputs": [],
   "source": [
    "aug = ImageDataGenerator(rotation_range = 30, width_shift_range = 0.1,\n",
    "                         height_shift_range = 0.1, shear_range = 0.2,\n",
    "                         horizontal_flip = True, fill_mode = \"nearest\")"
   ]
  },
  {
   "cell_type": "code",
   "execution_count": 14,
   "id": "bf9db0d8",
   "metadata": {},
   "outputs": [],
   "source": [
    "opt = RMSprop(lr = 0.001)"
   ]
  },
  {
   "cell_type": "code",
   "execution_count": 15,
   "id": "95bbce6c",
   "metadata": {},
   "outputs": [],
   "source": [
    "model.compile(loss= \"categorical_crossentropy\", optimizer = opt, metrics = [\"accuracy\"])"
   ]
  },
  {
   "cell_type": "code",
   "execution_count": 16,
   "id": "67d29b31",
   "metadata": {},
   "outputs": [
    {
     "name": "stdout",
     "output_type": "stream",
     "text": [
      "Model: \"model\"\n",
      "_________________________________________________________________\n",
      "Layer (type)                 Output Shape              Param #   \n",
      "=================================================================\n",
      "input_1 (InputLayer)         [(None, 224, 224, 3)]     0         \n",
      "_________________________________________________________________\n",
      "block1_conv1 (Conv2D)        (None, 224, 224, 64)      1792      \n",
      "_________________________________________________________________\n",
      "block1_conv2 (Conv2D)        (None, 224, 224, 64)      36928     \n",
      "_________________________________________________________________\n",
      "block1_pool (MaxPooling2D)   (None, 112, 112, 64)      0         \n",
      "_________________________________________________________________\n",
      "block2_conv1 (Conv2D)        (None, 112, 112, 128)     73856     \n",
      "_________________________________________________________________\n",
      "block2_conv2 (Conv2D)        (None, 112, 112, 128)     147584    \n",
      "_________________________________________________________________\n",
      "block2_pool (MaxPooling2D)   (None, 56, 56, 128)       0         \n",
      "_________________________________________________________________\n",
      "block3_conv1 (Conv2D)        (None, 56, 56, 256)       295168    \n",
      "_________________________________________________________________\n",
      "block3_conv2 (Conv2D)        (None, 56, 56, 256)       590080    \n",
      "_________________________________________________________________\n",
      "block3_conv3 (Conv2D)        (None, 56, 56, 256)       590080    \n",
      "_________________________________________________________________\n",
      "block3_pool (MaxPooling2D)   (None, 28, 28, 256)       0         \n",
      "_________________________________________________________________\n",
      "block4_conv1 (Conv2D)        (None, 28, 28, 512)       1180160   \n",
      "_________________________________________________________________\n",
      "block4_conv2 (Conv2D)        (None, 28, 28, 512)       2359808   \n",
      "_________________________________________________________________\n",
      "block4_conv3 (Conv2D)        (None, 28, 28, 512)       2359808   \n",
      "_________________________________________________________________\n",
      "block4_pool (MaxPooling2D)   (None, 14, 14, 512)       0         \n",
      "_________________________________________________________________\n",
      "block5_conv1 (Conv2D)        (None, 14, 14, 512)       2359808   \n",
      "_________________________________________________________________\n",
      "block5_conv2 (Conv2D)        (None, 14, 14, 512)       2359808   \n",
      "_________________________________________________________________\n",
      "block5_conv3 (Conv2D)        (None, 14, 14, 512)       2359808   \n",
      "_________________________________________________________________\n",
      "block5_pool (MaxPooling2D)   (None, 7, 7, 512)         0         \n",
      "_________________________________________________________________\n",
      "flatten (Flatten)            (None, 25088)             0         \n",
      "_________________________________________________________________\n",
      "dense (Dense)                (None, 256)               6422784   \n",
      "_________________________________________________________________\n",
      "dropout (Dropout)            (None, 256)               0         \n",
      "_________________________________________________________________\n",
      "dense_1 (Dense)              (None, 17)                4369      \n",
      "=================================================================\n",
      "Total params: 21,141,841\n",
      "Trainable params: 6,427,153\n",
      "Non-trainable params: 14,714,688\n",
      "_________________________________________________________________\n"
     ]
    }
   ],
   "source": [
    "model.summary()"
   ]
  },
  {
   "cell_type": "markdown",
   "id": "c1319793",
   "metadata": {},
   "source": [
    "### Training the model"
   ]
  },
  {
   "cell_type": "code",
   "execution_count": null,
   "id": "aae305d1",
   "metadata": {},
   "outputs": [],
   "source": [
    "bs = 32"
   ]
  },
  {
   "cell_type": "code",
   "execution_count": 17,
   "id": "0b298cba",
   "metadata": {},
   "outputs": [
    {
     "name": "stdout",
     "output_type": "stream",
     "text": [
      "WARNING:tensorflow:sample_weight modes were coerced from\n",
      "  ...\n",
      "    to  \n",
      "  ['...']\n",
      "Train for 31 steps, validate on 340 samples\n",
      "Epoch 1/25\n",
      "31/31 [==============================] - 14s 449ms/step - loss: 4.3179 - accuracy: 0.1721 - val_loss: 2.0358 - val_accuracy: 0.3912\n",
      "Epoch 2/25\n",
      "31/31 [==============================] - 10s 323ms/step - loss: 2.2677 - accuracy: 0.2874 - val_loss: 1.8074 - val_accuracy: 0.4853\n",
      "Epoch 3/25\n",
      "31/31 [==============================] - 10s 325ms/step - loss: 1.9922 - accuracy: 0.3623 - val_loss: 1.4769 - val_accuracy: 0.5353\n",
      "Epoch 4/25\n",
      "31/31 [==============================] - 10s 326ms/step - loss: 1.7230 - accuracy: 0.4342 - val_loss: 1.2072 - val_accuracy: 0.6588\n",
      "Epoch 5/25\n",
      "31/31 [==============================] - 10s 322ms/step - loss: 1.5259 - accuracy: 0.4889 - val_loss: 1.0810 - val_accuracy: 0.6529\n",
      "Epoch 6/25\n",
      "31/31 [==============================] - 10s 325ms/step - loss: 1.4499 - accuracy: 0.5192 - val_loss: 0.8469 - val_accuracy: 0.7618\n",
      "Epoch 7/25\n",
      "31/31 [==============================] - 10s 321ms/step - loss: 1.3424 - accuracy: 0.5749 - val_loss: 0.7707 - val_accuracy: 0.7824\n",
      "Epoch 8/25\n",
      "31/31 [==============================] - 10s 322ms/step - loss: 1.2379 - accuracy: 0.6053 - val_loss: 0.7175 - val_accuracy: 0.8265\n",
      "Epoch 9/25\n",
      "31/31 [==============================] - 10s 326ms/step - loss: 1.1637 - accuracy: 0.6204 - val_loss: 0.6917 - val_accuracy: 0.8000\n",
      "Epoch 10/25\n",
      "31/31 [==============================] - 10s 325ms/step - loss: 1.0851 - accuracy: 0.6397 - val_loss: 0.6763 - val_accuracy: 0.8118\n",
      "Epoch 11/25\n",
      "31/31 [==============================] - 10s 322ms/step - loss: 1.0489 - accuracy: 0.6640 - val_loss: 0.6856 - val_accuracy: 0.8118\n",
      "Epoch 12/25\n",
      "31/31 [==============================] - 10s 323ms/step - loss: 1.0499 - accuracy: 0.6498 - val_loss: 0.6431 - val_accuracy: 0.8176\n",
      "Epoch 13/25\n",
      "31/31 [==============================] - 10s 324ms/step - loss: 0.9636 - accuracy: 0.6711 - val_loss: 0.5972 - val_accuracy: 0.8147\n",
      "Epoch 14/25\n",
      "31/31 [==============================] - 10s 323ms/step - loss: 0.8828 - accuracy: 0.7055 - val_loss: 0.6251 - val_accuracy: 0.8235\n",
      "Epoch 15/25\n",
      "31/31 [==============================] - 10s 327ms/step - loss: 0.9289 - accuracy: 0.6791 - val_loss: 0.5669 - val_accuracy: 0.8265\n",
      "Epoch 16/25\n",
      "31/31 [==============================] - 10s 323ms/step - loss: 0.8441 - accuracy: 0.7075 - val_loss: 0.4970 - val_accuracy: 0.8588\n",
      "Epoch 17/25\n",
      "31/31 [==============================] - 10s 323ms/step - loss: 0.8707 - accuracy: 0.7085 - val_loss: 0.5968 - val_accuracy: 0.8118\n",
      "Epoch 18/25\n",
      "31/31 [==============================] - 10s 323ms/step - loss: 0.7989 - accuracy: 0.7409 - val_loss: 0.4727 - val_accuracy: 0.8735\n",
      "Epoch 19/25\n",
      "31/31 [==============================] - 10s 326ms/step - loss: 0.7312 - accuracy: 0.7591 - val_loss: 0.4494 - val_accuracy: 0.8706\n",
      "Epoch 20/25\n",
      "31/31 [==============================] - 10s 324ms/step - loss: 0.7491 - accuracy: 0.7419 - val_loss: 0.5511 - val_accuracy: 0.8294\n",
      "Epoch 21/25\n",
      "31/31 [==============================] - 10s 324ms/step - loss: 0.7155 - accuracy: 0.7713 - val_loss: 0.5044 - val_accuracy: 0.8294\n",
      "Epoch 22/25\n",
      "31/31 [==============================] - 10s 332ms/step - loss: 0.7186 - accuracy: 0.7642 - val_loss: 0.5253 - val_accuracy: 0.8382\n",
      "Epoch 23/25\n",
      "31/31 [==============================] - 10s 325ms/step - loss: 0.6960 - accuracy: 0.7632 - val_loss: 0.5292 - val_accuracy: 0.8441\n",
      "Epoch 24/25\n",
      "31/31 [==============================] - 10s 330ms/step - loss: 0.6387 - accuracy: 0.7935 - val_loss: 0.5677 - val_accuracy: 0.8265\n",
      "Epoch 25/25\n",
      "31/31 [==============================] - 10s 325ms/step - loss: 0.6595 - accuracy: 0.7864 - val_loss: 0.4763 - val_accuracy: 0.8765\n"
     ]
    }
   ],
   "source": [
    "H = model.fit(aug.flow(X_train, y_train, batch_size=bs), validation_data = (X_test, y_test),\n",
    "             epochs = 25, steps_per_epoch = len(X_train) // bs,\n",
    "             verbose = 1)"
   ]
  },
  {
   "cell_type": "markdown",
   "id": "8c89f245",
   "metadata": {},
   "source": [
    "**Making prediction on the trained model**"
   ]
  },
  {
   "cell_type": "code",
   "execution_count": 18,
   "id": "2f1635eb",
   "metadata": {},
   "outputs": [],
   "source": [
    "predictions = model.predict(X_test, batch_size=bs)"
   ]
  },
  {
   "cell_type": "markdown",
   "id": "237c29e6",
   "metadata": {},
   "source": [
    "**Evaluating**"
   ]
  },
  {
   "cell_type": "code",
   "execution_count": 19,
   "id": "a23ab177",
   "metadata": {},
   "outputs": [
    {
     "name": "stdout",
     "output_type": "stream",
     "text": [
      "              precision    recall  f1-score   support\n",
      "\n",
      "           0       1.00      0.50      0.67        20\n",
      "           1       0.81      0.85      0.83        20\n",
      "          10       0.94      0.94      0.94        18\n",
      "          11       1.00      0.81      0.90        16\n",
      "          12       0.96      0.93      0.94        27\n",
      "          13       0.67      1.00      0.80        20\n",
      "          14       0.81      0.94      0.87        18\n",
      "          15       0.95      0.87      0.91        23\n",
      "          16       1.00      0.95      0.97        19\n",
      "           2       0.90      0.82      0.86        22\n",
      "           3       0.79      0.73      0.76        15\n",
      "           4       0.93      0.81      0.87        16\n",
      "           5       1.00      0.95      0.97        19\n",
      "           6       1.00      0.96      0.98        23\n",
      "           7       0.60      0.86      0.71        21\n",
      "           8       0.90      0.95      0.93        20\n",
      "           9       0.96      0.96      0.96        23\n",
      "\n",
      "    accuracy                           0.88       340\n",
      "   macro avg       0.90      0.87      0.87       340\n",
      "weighted avg       0.90      0.88      0.88       340\n",
      "\n"
     ]
    }
   ],
   "source": [
    "print(classification_report(y_test.argmax(axis=1), predictions.argmax(axis=1), target_names=classNames))"
   ]
  },
  {
   "cell_type": "markdown",
   "id": "f216ad56",
   "metadata": {},
   "source": [
    "**Visualizing the metrics**"
   ]
  },
  {
   "cell_type": "code",
   "execution_count": 20,
   "id": "b5ad45cf",
   "metadata": {},
   "outputs": [],
   "source": [
    "import matplotlib.pyplot as plt"
   ]
  },
  {
   "cell_type": "code",
   "execution_count": 21,
   "id": "7acd0197",
   "metadata": {},
   "outputs": [
    {
     "data": {
      "image/png": "[encoded data removed]",
      "text/plain": [
       "<Figure size 576x576 with 2 Axes>"
      ]
     },
     "metadata": {
      "needs_background": "light"
     },
     "output_type": "display_data"
    }
   ],
   "source": [
    "acc = H.history['accuracy']\n",
    "val_acc = H.history['val_accuracy']\n",
    "\n",
    "loss = H.history['loss']\n",
    "val_loss = H.history['val_loss']\n",
    "\n",
    "plt.figure(figsize=(8, 8))\n",
    "plt.subplot(2, 1, 1)\n",
    "plt.plot(acc, label='Training Accuracy')\n",
    "plt.plot(val_acc, label='Validation Accuracy')\n",
    "plt.legend(loc='lower right')\n",
    "plt.ylabel('Accuracy')\n",
    "plt.ylim([min(plt.ylim()),1])\n",
    "plt.title('Training and Validation Accuracy')\n",
    "\n",
    "plt.subplot(2, 1, 2)\n",
    "plt.plot(loss, label='Training Loss')\n",
    "plt.plot(val_loss, label='Validation Loss')\n",
    "plt.legend(loc='upper right')\n",
    "plt.ylabel('Cross Entropy')\n",
    "plt.ylim([0,1.0])\n",
    "plt.title('Training and Validation Loss')\n",
    "plt.xlabel('epoch')\n",
    "plt.show()"
   ]
  },
  {
   "cell_type": "markdown",
   "id": "19022ecf",
   "metadata": {},
   "source": [
    "## Fine Tuning \n",
    "\n",
    "\n",
    "In the fine tuning step, the model was trained without change the weights according the VGG16. Now, some layers will be trained and communicating with the head of the network. In this moment the weights of the head are tweaked according the weights from VGG16. To activate the layers to be trained, we must call the index of layer in the base model."
   ]
  },
  {
   "cell_type": "code",
   "execution_count": 22,
   "id": "0973c267",
   "metadata": {},
   "outputs": [],
   "source": [
    "for layer in baseModel.layers[15:]:\n",
    "    layer.trainable = True"
   ]
  },
  {
   "cell_type": "markdown",
   "id": "b278f5e1",
   "metadata": {},
   "source": [
    "**Learning rate step function**"
   ]
  },
  {
   "cell_type": "code",
   "execution_count": 23,
   "id": "d6c899f1",
   "metadata": {},
   "outputs": [],
   "source": [
    "def step_decay(epoch, lr):\n",
    "    \n",
    "    init_alpha = 0.001 # initial learning rate\n",
    "    factor = 0.99\n",
    "    step = 10 # step size\n",
    "    if epoch  == 0:\n",
    "        lr = init_alpha\n",
    "        print(\"The intitial learning rate is {:f}\".format(lr))\n",
    "    elif   epoch % step  == 0:\n",
    "        tol = 1e-6\n",
    "        lr = init_alpha * (factor ** np.floor((1 + epoch) / step)) + tol\n",
    "        print(\"Learning rate updated {: f}\".format(lr))\n",
    "    else:\n",
    "        lr = lr\n",
    "    return lr\n"
   ]
  },
  {
   "cell_type": "code",
   "execution_count": 24,
   "id": "836b62d3",
   "metadata": {},
   "outputs": [],
   "source": [
    "callbacks = [LearningRateScheduler(step_decay)]"
   ]
  },
  {
   "cell_type": "code",
   "execution_count": 25,
   "id": "ebeee7a0",
   "metadata": {},
   "outputs": [],
   "source": [
    "opt = SGD()\n",
    "model.compile(loss=\"categorical_crossentropy\", optimizer=opt, metrics=[\"accuracy\"])"
   ]
  },
  {
   "cell_type": "code",
   "execution_count": null,
   "id": "037ef893",
   "metadata": {},
   "outputs": [
    {
     "name": "stdout",
     "output_type": "stream",
     "text": [
      "WARNING:tensorflow:sample_weight modes were coerced from\n",
      "  ...\n",
      "    to  \n",
      "  ['...']\n"
     ]
    }
   ],
   "source": [
    "H_fine = model.fit(aug.flow(X_train, y_train, batch_size=bs), \n",
    "                             validation_data=(X_test, y_test), epochs=100,\n",
    "                             callbacks=callbacks,\n",
    "                             steps_per_epoch=len(X_train) // bs, verbose=1)"
   ]
  },
  {
   "cell_type": "code",
   "execution_count": null,
   "id": "98fd2de4",
   "metadata": {},
   "outputs": [],
   "source": [
    "predictions = model.predict(X_test, batch_size=bs)\n",
    "\n",
    "print(classification_report(y_test.argmax(axis=1), \n",
    "                            predictions.argmax(axis=1), \n",
    "                            target_names=classNames))"
   ]
  },
  {
   "cell_type": "code",
   "execution_count": null,
   "id": "ac7aaa27",
   "metadata": {},
   "outputs": [],
   "source": [
    "acc += H_fine.history['accuracy']\n",
    "val_acc += H_fine.history['val_accuracy']\n",
    "\n",
    "loss += H_fine.history['loss']\n",
    "val_loss += H_fine.history['val_loss']"
   ]
  },
  {
   "cell_type": "code",
   "execution_count": null,
   "id": "b4887591",
   "metadata": {},
   "outputs": [],
   "source": [
    "plt.figure(figsize=(8, 8))\n",
    "plt.subplot(2, 1, 1)\n",
    "plt.plot(acc, label='Training Accuracy')\n",
    "plt.plot(val_acc, label='Validation Accuracy')\n",
    "plt.ylim([0.8, 1])\n",
    "plt.plot([25-1,25-1],\n",
    "          plt.ylim(), label='Start Fine Tuning')\n",
    "plt.legend(loc='lower right')\n",
    "plt.title('Training and Validation Accuracy')\n",
    "\n",
    "plt.subplot(2, 1, 2)\n",
    "plt.plot(loss, label='Training Loss')\n",
    "plt.plot(val_loss, label='Validation Loss')\n",
    "plt.ylim([0, 1.0])\n",
    "plt.plot([25-1,25-1],\n",
    "         plt.ylim(), label='Start Fine Tuning')\n",
    "plt.legend(loc='upper right')\n",
    "plt.title('Training and Validation Loss')\n",
    "plt.xlabel('epoch')\n",
    "plt.show()\n"
   ]
  },
  {
   "cell_type": "code",
   "execution_count": null,
   "id": "d77a9d7c",
   "metadata": {},
   "outputs": [],
   "source": [
    "model.save(\"fine_tuning.h5\")"
   ]
  }
 ],
 "metadata": {
  "kernelspec": {
   "display_name": "Python 3",
   "language": "python",
   "name": "python3"
  },
  "language_info": {
   "codemirror_mode": {
    "name": "ipython",
    "version": 3
   },
   "file_extension": ".py",
   "mimetype": "text/x-python",
   "name": "python",
   "nbconvert_exporter": "python",
   "pygments_lexer": "ipython3",
   "version": "3.7.10"
  }
 },
 "nbformat": 4,
 "nbformat_minor": 5
}
